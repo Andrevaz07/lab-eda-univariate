{
 "cells": [
  {
   "cell_type": "code",
   "execution_count": 12,
   "metadata": {},
   "outputs": [],
   "source": [
    "import pandas as pd\n",
    "import matplotlib.pyplot as plt\n",
    "import seaborn as sns\n",
    "import numpy as np\n",
    "\n",
    "%matplotlib inline"
   ]
  },
  {
   "cell_type": "code",
   "execution_count": 13,
   "metadata": {},
   "outputs": [],
   "source": [
    "csv = r\"C:\\Users\\Andre Vaz\\OneDrive\\Desktop\\IH DATA\\Week 4 Descriptive Stats\\Lab Univariate\\lab-eda-bivariate\\amz_uk_price_prediction_dataset.csv\"\n",
    "df = pd.read_csv(csv)\n"
   ]
  },
  {
   "cell_type": "code",
   "execution_count": 14,
   "metadata": {},
   "outputs": [
    {
     "data": {
      "text/html": [
       "<div>\n",
       "<style scoped>\n",
       "    .dataframe tbody tr th:only-of-type {\n",
       "        vertical-align: middle;\n",
       "    }\n",
       "\n",
       "    .dataframe tbody tr th {\n",
       "        vertical-align: top;\n",
       "    }\n",
       "\n",
       "    .dataframe thead th {\n",
       "        text-align: right;\n",
       "    }\n",
       "</style>\n",
       "<table border=\"1\" class=\"dataframe\">\n",
       "  <thead>\n",
       "    <tr style=\"text-align: right;\">\n",
       "      <th></th>\n",
       "      <th>uid</th>\n",
       "      <th>asin</th>\n",
       "      <th>title</th>\n",
       "      <th>stars</th>\n",
       "      <th>reviews</th>\n",
       "      <th>price</th>\n",
       "      <th>isBestSeller</th>\n",
       "      <th>boughtInLastMonth</th>\n",
       "      <th>category</th>\n",
       "    </tr>\n",
       "  </thead>\n",
       "  <tbody>\n",
       "    <tr>\n",
       "      <th>0</th>\n",
       "      <td>1</td>\n",
       "      <td>B09B96TG33</td>\n",
       "      <td>Echo Dot (5th generation, 2022 release) | Big ...</td>\n",
       "      <td>4.7</td>\n",
       "      <td>15308</td>\n",
       "      <td>21.99</td>\n",
       "      <td>False</td>\n",
       "      <td>0</td>\n",
       "      <td>Hi-Fi Speakers</td>\n",
       "    </tr>\n",
       "    <tr>\n",
       "      <th>1</th>\n",
       "      <td>2</td>\n",
       "      <td>B01HTH3C8S</td>\n",
       "      <td>Anker Soundcore mini, Super-Portable Bluetooth...</td>\n",
       "      <td>4.7</td>\n",
       "      <td>98099</td>\n",
       "      <td>23.99</td>\n",
       "      <td>True</td>\n",
       "      <td>0</td>\n",
       "      <td>Hi-Fi Speakers</td>\n",
       "    </tr>\n",
       "    <tr>\n",
       "      <th>2</th>\n",
       "      <td>3</td>\n",
       "      <td>B09B8YWXDF</td>\n",
       "      <td>Echo Dot (5th generation, 2022 release) | Big ...</td>\n",
       "      <td>4.7</td>\n",
       "      <td>15308</td>\n",
       "      <td>21.99</td>\n",
       "      <td>False</td>\n",
       "      <td>0</td>\n",
       "      <td>Hi-Fi Speakers</td>\n",
       "    </tr>\n",
       "    <tr>\n",
       "      <th>3</th>\n",
       "      <td>4</td>\n",
       "      <td>B09B8T5VGV</td>\n",
       "      <td>Echo Dot with clock (5th generation, 2022 rele...</td>\n",
       "      <td>4.7</td>\n",
       "      <td>7205</td>\n",
       "      <td>31.99</td>\n",
       "      <td>False</td>\n",
       "      <td>0</td>\n",
       "      <td>Hi-Fi Speakers</td>\n",
       "    </tr>\n",
       "    <tr>\n",
       "      <th>4</th>\n",
       "      <td>5</td>\n",
       "      <td>B09WX6QD65</td>\n",
       "      <td>Introducing Echo Pop | Full sound compact Wi-F...</td>\n",
       "      <td>4.6</td>\n",
       "      <td>1881</td>\n",
       "      <td>17.99</td>\n",
       "      <td>False</td>\n",
       "      <td>0</td>\n",
       "      <td>Hi-Fi Speakers</td>\n",
       "    </tr>\n",
       "    <tr>\n",
       "      <th>5</th>\n",
       "      <td>6</td>\n",
       "      <td>B09B97WSLF</td>\n",
       "      <td>Echo Dot with clock (5th generation, 2022 rele...</td>\n",
       "      <td>4.7</td>\n",
       "      <td>7205</td>\n",
       "      <td>31.99</td>\n",
       "      <td>False</td>\n",
       "      <td>0</td>\n",
       "      <td>Hi-Fi Speakers</td>\n",
       "    </tr>\n",
       "    <tr>\n",
       "      <th>6</th>\n",
       "      <td>7</td>\n",
       "      <td>B09B9615X2</td>\n",
       "      <td>Echo Dot (5th generation, 2022 release) | Big ...</td>\n",
       "      <td>4.7</td>\n",
       "      <td>15308</td>\n",
       "      <td>21.99</td>\n",
       "      <td>False</td>\n",
       "      <td>0</td>\n",
       "      <td>Hi-Fi Speakers</td>\n",
       "    </tr>\n",
       "    <tr>\n",
       "      <th>7</th>\n",
       "      <td>8</td>\n",
       "      <td>B01MTB55WH</td>\n",
       "      <td>Anker Soundcore 2 Portable Bluetooth Speaker w...</td>\n",
       "      <td>4.7</td>\n",
       "      <td>103673</td>\n",
       "      <td>39.99</td>\n",
       "      <td>False</td>\n",
       "      <td>0</td>\n",
       "      <td>Hi-Fi Speakers</td>\n",
       "    </tr>\n",
       "    <tr>\n",
       "      <th>8</th>\n",
       "      <td>9</td>\n",
       "      <td>B016MO90GW</td>\n",
       "      <td>Bluetooth Speaker, Anker Soundcore Speaker Upg...</td>\n",
       "      <td>4.7</td>\n",
       "      <td>29909</td>\n",
       "      <td>29.99</td>\n",
       "      <td>False</td>\n",
       "      <td>0</td>\n",
       "      <td>Hi-Fi Speakers</td>\n",
       "    </tr>\n",
       "    <tr>\n",
       "      <th>9</th>\n",
       "      <td>10</td>\n",
       "      <td>B09ZQF5GZW</td>\n",
       "      <td>RIENOK Bluetooth Speaker Portable Wireless Blu...</td>\n",
       "      <td>4.5</td>\n",
       "      <td>16014</td>\n",
       "      <td>29.99</td>\n",
       "      <td>False</td>\n",
       "      <td>0</td>\n",
       "      <td>Hi-Fi Speakers</td>\n",
       "    </tr>\n",
       "  </tbody>\n",
       "</table>\n",
       "</div>"
      ],
      "text/plain": [
       "   uid        asin                                              title  stars  \\\n",
       "0    1  B09B96TG33  Echo Dot (5th generation, 2022 release) | Big ...    4.7   \n",
       "1    2  B01HTH3C8S  Anker Soundcore mini, Super-Portable Bluetooth...    4.7   \n",
       "2    3  B09B8YWXDF  Echo Dot (5th generation, 2022 release) | Big ...    4.7   \n",
       "3    4  B09B8T5VGV  Echo Dot with clock (5th generation, 2022 rele...    4.7   \n",
       "4    5  B09WX6QD65  Introducing Echo Pop | Full sound compact Wi-F...    4.6   \n",
       "5    6  B09B97WSLF  Echo Dot with clock (5th generation, 2022 rele...    4.7   \n",
       "6    7  B09B9615X2  Echo Dot (5th generation, 2022 release) | Big ...    4.7   \n",
       "7    8  B01MTB55WH  Anker Soundcore 2 Portable Bluetooth Speaker w...    4.7   \n",
       "8    9  B016MO90GW  Bluetooth Speaker, Anker Soundcore Speaker Upg...    4.7   \n",
       "9   10  B09ZQF5GZW  RIENOK Bluetooth Speaker Portable Wireless Blu...    4.5   \n",
       "\n",
       "   reviews  price  isBestSeller  boughtInLastMonth        category  \n",
       "0    15308  21.99         False                  0  Hi-Fi Speakers  \n",
       "1    98099  23.99          True                  0  Hi-Fi Speakers  \n",
       "2    15308  21.99         False                  0  Hi-Fi Speakers  \n",
       "3     7205  31.99         False                  0  Hi-Fi Speakers  \n",
       "4     1881  17.99         False                  0  Hi-Fi Speakers  \n",
       "5     7205  31.99         False                  0  Hi-Fi Speakers  \n",
       "6    15308  21.99         False                  0  Hi-Fi Speakers  \n",
       "7   103673  39.99         False                  0  Hi-Fi Speakers  \n",
       "8    29909  29.99         False                  0  Hi-Fi Speakers  \n",
       "9    16014  29.99         False                  0  Hi-Fi Speakers  "
      ]
     },
     "execution_count": 14,
     "metadata": {},
     "output_type": "execute_result"
    }
   ],
   "source": [
    "df.head(10)"
   ]
  },
  {
   "cell_type": "code",
   "execution_count": 15,
   "metadata": {},
   "outputs": [
    {
     "data": {
      "text/plain": [
       "(2443651, 9)"
      ]
     },
     "execution_count": 15,
     "metadata": {},
     "output_type": "execute_result"
    }
   ],
   "source": [
    "df.shape"
   ]
  },
  {
   "cell_type": "markdown",
   "metadata": {},
   "source": [
    "### Part 1: Understanding Product Categories\n",
    "\n",
    "**Business Question**: What are the most popular product categories on Amazon UK, and how do they compare in terms of listing frequency? \n",
    "\n",
    "1. **Frequency Tables**:\n",
    "    - Generate a frequency table for the product `category`.\n",
    "    - Which are the top 5 most listed product categories?\n",
    "\n",
    "2. **Visualizations**:\n",
    "    - Display the distribution of products across different categories using a bar chart. *If you face problems understanding the chart, do it for a subset of top categories.*\n",
    "    - For a subset of top categories, visualize their proportions using a pie chart. Does any category dominate the listings?"
   ]
  },
  {
   "cell_type": "markdown",
   "metadata": {},
   "source": [
    "**Business Question**: What are the most popular product categories on Amazon UK, and how do they compare in terms of listing frequency?\n",
    " "
   ]
  },
  {
   "cell_type": "code",
   "execution_count": 16,
   "metadata": {},
   "outputs": [],
   "source": [
    "pd.set_option(\"display.max_rows\", 100)"
   ]
  },
  {
   "cell_type": "code",
   "execution_count": 17,
   "metadata": {},
   "outputs": [
    {
     "data": {
      "text/plain": [
       "category\n",
       "Sports & Outdoors                         0.342219\n",
       "Beauty                                    0.007903\n",
       "Handmade Clothing, Shoes & Accessories    0.007869\n",
       "Bath & Body                               0.007813\n",
       "Birthday Gifts                            0.007766\n",
       "                                            ...   \n",
       "Alexa Built-In Devices                    0.000044\n",
       "Motorbike Chassis                         0.000044\n",
       "Plugs                                     0.000044\n",
       "Smart Home Security & Lighting            0.000043\n",
       "Smart Speakers                            0.000022\n",
       "Name: proportion, Length: 296, dtype: float64"
      ]
     },
     "execution_count": 17,
     "metadata": {},
     "output_type": "execute_result"
    }
   ],
   "source": [
    "pt_category = df[\"category\"].value_counts(normalize=True)\n",
    "pt_category"
   ]
  },
  {
   "cell_type": "code",
   "execution_count": 18,
   "metadata": {},
   "outputs": [
    {
     "data": {
      "text/plain": [
       "uid                  0\n",
       "asin                 0\n",
       "title                0\n",
       "stars                0\n",
       "reviews              0\n",
       "price                0\n",
       "isBestSeller         0\n",
       "boughtInLastMonth    0\n",
       "category             0\n",
       "dtype: int64"
      ]
     },
     "execution_count": 18,
     "metadata": {},
     "output_type": "execute_result"
    }
   ],
   "source": [
    "df.isna().sum()"
   ]
  },
  {
   "cell_type": "code",
   "execution_count": 19,
   "metadata": {},
   "outputs": [
    {
     "data": {
      "text/plain": [
       "category\n",
       "Sports & Outdoors                         836265\n",
       "Beauty                                     19312\n",
       "Handmade Clothing, Shoes & Accessories     19229\n",
       "Bath & Body                                19092\n",
       "Birthday Gifts                             18978\n",
       "                                           ...  \n",
       "Alexa Built-In Devices                       107\n",
       "Motorbike Chassis                            107\n",
       "Plugs                                        107\n",
       "Smart Home Security & Lighting               104\n",
       "Smart Speakers                                54\n",
       "Name: count, Length: 296, dtype: int64"
      ]
     },
     "execution_count": 19,
     "metadata": {},
     "output_type": "execute_result"
    }
   ],
   "source": [
    "# 1 .- Generate a frequency table for the product `category`.\n",
    "ft_category = df[\"category\"].value_counts()\n",
    "ft_category"
   ]
  },
  {
   "cell_type": "code",
   "execution_count": 20,
   "metadata": {},
   "outputs": [
    {
     "data": {
      "text/plain": [
       "category\n",
       "Sports & Outdoors                         836265\n",
       "Beauty                                     19312\n",
       "Handmade Clothing, Shoes & Accessories     19229\n",
       "Bath & Body                                19092\n",
       "Birthday Gifts                             18978\n",
       "Name: count, dtype: int64"
      ]
     },
     "execution_count": 20,
     "metadata": {},
     "output_type": "execute_result"
    }
   ],
   "source": [
    "#2.- Which are the top 5 most listed product categories?\n",
    "top5_category = df[\"category\"].value_counts().head(5)\n",
    "top5_category"
   ]
  },
  {
   "cell_type": "markdown",
   "metadata": {},
   "source": [
    "2. **Visualizations**:\n",
    "    - Display the distribution of products across different categories using a bar chart. *If you face problems understanding the chart, do it for a subset of top categories.*"
   ]
  },
  {
   "cell_type": "code",
   "execution_count": 21,
   "metadata": {},
   "outputs": [
    {
     "name": "stderr",
     "output_type": "stream",
     "text": [
      "C:\\Users\\Andre Vaz\\AppData\\Local\\Temp\\ipykernel_13744\\3450832648.py:1: FutureWarning: \n",
      "\n",
      "Passing `palette` without assigning `hue` is deprecated and will be removed in v0.14.0. Assign the `x` variable to `hue` and set `legend=False` for the same effect.\n",
      "\n",
      "  sns.barplot(x=top5_category.index, y= top5_category.values, palette= \"Set1\");\n"
     ]
    },
    {
     "data": {
      "image/png": "[encoded data removed]",
      "text/plain": [
       "<Figure size 640x480 with 1 Axes>"
      ]
     },
     "metadata": {},
     "output_type": "display_data"
    }
   ],
   "source": [
    "sns.barplot(x=top5_category.index, y= top5_category.values, palette= \"Set1\");\n",
    "plt.xticks(rotation = 90)\n",
    "plt.show()"
   ]
  },
  {
   "cell_type": "code",
   "execution_count": 22,
   "metadata": {},
   "outputs": [
    {
     "data": {
      "text/plain": [
       "<Axes: ylabel='count'>"
      ]
     },
     "execution_count": 22,
     "metadata": {},
     "output_type": "execute_result"
    },
    {
     "data": {
      "image/png": "[encoded data removed]",
      "text/plain": [
       "<Figure size 640x480 with 1 Axes>"
      ]
     },
     "metadata": {},
     "output_type": "display_data"
    }
   ],
   "source": [
    "#For a subset of top categories, visualize their proportions using a pie chart. Does any category dominate the listings?\"Labor hours 2022\"\n",
    "\n",
    "top5_category.plot.pie(autopct= \"%1.1f%%\",startangle = 90, colors =sns.color_palette(\"Set1\"))"
   ]
  },
  {
   "cell_type": "code",
   "execution_count": 23,
   "metadata": {},
   "outputs": [
    {
     "data": {
      "text/plain": [
       "'\\nIn an initial inspection, it\\'s evident that the category \"Sports & Outdoors\" holds significant weight, representing 35% of the total listings among 296 categories. \\nHowever, it\\'s notable that this category also appears to be the most ambiguous within the \"category\" column. \\nTo enhance the clarity of the data, it would be beneficial to standardize the values within the \"category\" column to a similar scale. \\nOne approach could involve introducing a \"sub-category\" column, allowing for more granularity in categorization while retaining a broader classification in the original \"category\" column.\\n'"
      ]
     },
     "execution_count": 23,
     "metadata": {},
     "output_type": "execute_result"
    }
   ],
   "source": [
    "#BUSSINES QUESTION#\n",
    "\n",
    "\"\"\"\n",
    "In an initial inspection, it's evident that the category \"Sports & Outdoors\" holds significant weight, representing 35% of the total listings among 296 categories. \n",
    "However, it's notable that this category also appears to be the most ambiguous within the \"category\" column. \n",
    "To enhance the clarity of the data, it would be beneficial to standardize the values within the \"category\" column to a similar scale. \n",
    "One approach could involve introducing a \"sub-category\" column, allowing for more granularity in categorization while retaining a broader classification in the original \"category\" column.\n",
    "\"\"\""
   ]
  },
  {
   "cell_type": "markdown",
   "metadata": {},
   "source": [
    "### Part 2: Delving into Product Pricing\n",
    "\n",
    "**Business Question**: How are products priced on Amazon UK, and are there specific price points or ranges that are more common?\n",
    "\n",
    "1. **Measures of Centrality**:\n",
    "    - Calculate the mean, median, and mode for the `price` of products.\n",
    "    - What's the average price point of products listed? How does this compare with the most common price point (mode)?\n",
    "\n",
    "2. **Measures of Dispersion**:\n",
    "    - Determine the variance, standard deviation, range, and interquartile range for product `price`.\n",
    "    - How varied are the product prices? Are there any indicators of a significant spread in prices?\n",
    "\n",
    "3. **Visualizations**:\n",
    "    - Is there a specific price range where most products fall? Plot a histogram to visualize the distribution of product prices. *If its hard to read these diagrams, think why this is, and explain how it could be solved.*.\n",
    "    - Are there products that are priced significantly higher than the rest? Use a box plot to showcase the spread and potential outliers in product pricing. "
   ]
  },
  {
   "cell_type": "code",
   "execution_count": 24,
   "metadata": {},
   "outputs": [
    {
     "name": "stdout",
     "output_type": "stream",
     "text": [
      "mean : 89.244 \n",
      "median : 19.09,\n",
      "mode : 9.99\n"
     ]
    }
   ],
   "source": [
    "#1\n",
    "mean_price = df[\"price\"].mean().round(3)\n",
    "median_price = df[\"price\"].median()\n",
    "mode_price = df[\"price\"].mode()[0].round(3)\n",
    "\n",
    "print (f\"mean : {mean_price} \\nmedian : {median_price},\\nmode : {mode_price}\")\n",
    "\n",
    "# the average point is 89,244 , and the mode 9.99 showing that are outliers pushing the median way above the mode price. "
   ]
  },
  {
   "cell_type": "code",
   "execution_count": 25,
   "metadata": {},
   "outputs": [
    {
     "data": {
      "text/plain": [
       "(119445.48532254907, 345.60886175349884, 100000.0, 36.0)"
      ]
     },
     "execution_count": 25,
     "metadata": {},
     "output_type": "execute_result"
    }
   ],
   "source": [
    "2#\n",
    "max_price = df[\"price\"].max()\n",
    "min_price = df[\"price\"].min()\n",
    "var_price = df[\"price\"].var()\n",
    "std_price = df[\"price\"].std()\n",
    "range_price = max_price - min_price\n",
    "q_price = df[\"price\"].quantile([0.25, 0.5, 0.75])\n",
    "Q1 = q_price.loc[0.25]\n",
    "Q3 = q_price.loc[0.75]\n",
    "IQR = Q3 - Q1\n",
    "\n",
    "\n",
    "var_price, std_price, range_price, IQR\n",
    "\n",
    "\n",
    "#All dispersion factors shows that there is a huge dispersion of values. "
   ]
  },
  {
   "cell_type": "code",
   "execution_count": 26,
   "metadata": {},
   "outputs": [
    {
     "data": {
      "text/plain": [
       "<Axes: xlabel='price', ylabel='Count'>"
      ]
     },
     "execution_count": 26,
     "metadata": {},
     "output_type": "execute_result"
    },
    {
     "data": {
      "image/png": "[encoded data removed]",
      "text/plain": [
       "<Figure size 640x480 with 1 Axes>"
      ]
     },
     "metadata": {},
     "output_type": "display_data"
    }
   ],
   "source": [
    "sns.histplot(df['price'], kde=True, bins=100, color=\"blue\")"
   ]
  },
  {
   "cell_type": "code",
   "execution_count": 27,
   "metadata": {},
   "outputs": [],
   "source": [
    "# It's hard to visualize at wich precise price the 55% prices of the products falls on. Otherwise is easy to check there is a HUGE despersion of prices between the majoraty of prices.\n",
    "# This will be solved by removing the outliers from the equation, basicly flaging the outliers in a different collumn, so it can be removed if the necessary or display 2 different analysis ( with and without). "
   ]
  },
  {
   "cell_type": "code",
   "execution_count": 28,
   "metadata": {},
   "outputs": [
    {
     "data": {
      "text/plain": [
       "<Axes: ylabel='price'>"
      ]
     },
     "execution_count": 28,
     "metadata": {},
     "output_type": "execute_result"
    },
    {
     "data": {
      "image/png": "[encoded data removed]",
      "text/plain": [
       "<Figure size 640x480 with 1 Axes>"
      ]
     },
     "metadata": {},
     "output_type": "display_data"
    }
   ],
   "source": [
    "sns.boxplot(data = df['price'], color=\"lightblue\")"
   ]
  },
  {
   "cell_type": "code",
   "execution_count": 29,
   "metadata": {},
   "outputs": [
    {
     "data": {
      "text/plain": [
       "\"\\nBusiness Question: How are products priced on Amazon UK, and are there specific price points or ranges that are more common?\\n\\nThe dataset contains a wide range of product prices, ranging from 0 to 100000. With such diversity in product types and markets, it's natural to observe a high dispersion in prices.\\nThe mean price is $89.24, indicating the average price across all products.\\nThe standard deviation of $345.61 suggests considerable variability in prices around the mean.\\nThe prices span from a minimum of $0 to a maximum of $100000, reflecting the broad spectrum of products being sold.\\nInterestingly, the majority of prices fall within a narrower range:\\n\\n55% of the products have prices between $9.99 and $45.99.\\nThis finding highlights a concentration of prices within this range, despite the overall wide dispersion.\\n\\n\""
      ]
     },
     "execution_count": 29,
     "metadata": {},
     "output_type": "execute_result"
    }
   ],
   "source": [
    "\"\"\"\n",
    "Business Question: How are products priced on Amazon UK, and are there specific price points or ranges that are more common?\n",
    "\n",
    "The dataset contains a wide range of product prices, ranging from 0 to 100000. With such diversity in product types and markets, it's natural to observe a high dispersion in prices.\n",
    "The mean price is $89.24, indicating the average price across all products.\n",
    "The standard deviation of $345.61 suggests considerable variability in prices around the mean.\n",
    "The prices span from a minimum of $0 to a maximum of $100000, reflecting the broad spectrum of products being sold.\n",
    "Interestingly, the majority of prices fall within a narrower range:\n",
    "\n",
    "55% of the products have prices between $9.99 and $45.99.\n",
    "This finding highlights a concentration of prices within this range, despite the overall wide dispersion.\n",
    "\n",
    "\"\"\""
   ]
  },
  {
   "cell_type": "markdown",
   "metadata": {},
   "source": [
    "Part 3: Unpacking Product Ratings\n",
    "Business Question: How do customers rate products on Amazon UK, and are there any patterns or tendencies in the ratings?\n",
    "\n",
    "Measures of Centrality:\n",
    "\n",
    "Calculate the mean, median, and mode for the rating of products.\n",
    "How do customers generally rate products? Is there a common trend?\n",
    "Measures of Dispersion:\n",
    "\n",
    "Determine the variance, standard deviation, and interquartile range for product rating.\n",
    "Are the ratings consistent, or is there a wide variation in customer feedback?\n",
    "\n",
    "Shape of the Distribution:\n",
    "\n",
    "Calculate the skewness and kurtosis for the rating column.\n",
    "Are the ratings normally distributed, or do they lean towards higher or lower values?\n",
    "Visualizations:\n",
    "\n",
    "Plot a histogram to visualize the distribution of product ratings. Is there a specific rating that is more common?\n"
   ]
  },
  {
   "cell_type": "code",
   "execution_count": 30,
   "metadata": {},
   "outputs": [
    {
     "data": {
      "text/plain": [
       "(2.152836472966065, 0.0, 0.0)"
      ]
     },
     "execution_count": 30,
     "metadata": {},
     "output_type": "execute_result"
    }
   ],
   "source": [
    "            ###MEASURES OF CENTRALITY###\n",
    "\n",
    "dfmean = df[\"stars\"].mean()\n",
    "dfmedian = df[\"stars\"].median()\n",
    "dfmode = df[\"stars\"].mode()[0]\n",
    "df[\"stars\"].value_counts(normalize=True)\n",
    "dfmean, dfmedian, dfmode "
   ]
  },
  {
   "cell_type": "code",
   "execution_count": 31,
   "metadata": {},
   "outputs": [
    {
     "data": {
      "text/plain": [
       "'\\n\\nUpon analyzing the central tendency measures, we note that the median rating stands at 2.1 stars per product.\\nHowever, this figure is notably influenced by the prevalence of 0-star ratings (mode).\\nConsequently, the median tends to skew towards lower values. Solely relying on central tendency metrics,\\nwe face limitations in drawing definitive conclusions. \\nIt remains unclear whether a 0-star rating truly reflects the absence of feedback or signifies an actual rating. \\nFurther examination beyond central tendency measures is necessary for a more nuanced understanding.\\n\\n'"
      ]
     },
     "execution_count": 31,
     "metadata": {},
     "output_type": "execute_result"
    }
   ],
   "source": [
    "\"\"\"\n",
    "\n",
    "Upon analyzing the central tendency measures, we note that the median rating stands at 2.1 stars per product.\n",
    "However, this figure is notably influenced by the prevalence of 0-star ratings (mode).\n",
    "Consequently, the median tends to skew towards lower values. Solely relying on central tendency metrics,\n",
    "we face limitations in drawing definitive conclusions. \n",
    "It remains unclear whether a 0-star rating truly reflects the absence of feedback or signifies an actual rating. \n",
    "\n",
    "\n",
    "\"\"\""
   ]
  },
  {
   "cell_type": "code",
   "execution_count": 32,
   "metadata": {},
   "outputs": [
    {
     "data": {
      "text/plain": [
       "stars_cat\n",
       "Low          1234151\n",
       "Very High    1095804\n",
       "High          103252\n",
       "Medium         10444\n",
       "Name: count, dtype: int64"
      ]
     },
     "execution_count": 32,
     "metadata": {},
     "output_type": "execute_result"
    }
   ],
   "source": [
    "bins = [0, 1.25, 2.5, 3.75, df['stars'].max()]\n",
    "labels = ['Low', 'Medium', 'High', 'Very High']\n",
    "df['stars_cat'] = pd.cut(df['stars'], bins=bins, labels=labels, include_lowest=True)\n",
    "df['stars_cat'].value_counts()"
   ]
  },
  {
   "cell_type": "code",
   "execution_count": 33,
   "metadata": {},
   "outputs": [
    {
     "data": {
      "text/plain": [
       "(4.817434029796862, 2.1948653785134207, 5.0, 4.4)"
      ]
     },
     "execution_count": 33,
     "metadata": {},
     "output_type": "execute_result"
    }
   ],
   "source": [
    "                    ###MEASURES OF DISPERSION###\n",
    "            \n",
    "max_stars = df[\"stars\"].max()\n",
    "min_stars = df[\"stars\"].min()\n",
    "var_stars = df[\"stars\"].var()\n",
    "std_stars = df[\"stars\"].std()\n",
    "range_stars = max_stars - min_stars\n",
    "q_stars = df[\"stars\"].quantile([0.25, 0.5, 0.75])\n",
    "Q1 = q_stars.loc[0.25]\n",
    "Q3 = q_stars.loc[0.75]\n",
    "IQR = Q3 - Q1\n",
    "\n",
    "\n",
    "var_stars, std_stars, range_stars, IQR\n",
    "\n",
    "\n",
    "\n",
    "\n",
    "\n",
    "var_stars, std_stars, range_stars, IQR"
   ]
  },
  {
   "cell_type": "code",
   "execution_count": 34,
   "metadata": {},
   "outputs": [
    {
     "data": {
      "text/plain": [
       "(0.08120735761080985, -1.9260061280432985)"
      ]
     },
     "execution_count": 34,
     "metadata": {},
     "output_type": "execute_result"
    }
   ],
   "source": [
    "###MEASURES OF DISPERSION \n",
    "\n",
    "\n",
    "skewness_stars = df[\"stars\"].skew()\n",
    "kurtosis_price = df[\"stars\"].kurtosis()\n",
    "\n",
    "skewness_stars,kurtosis_price"
   ]
  },
  {
   "cell_type": "code",
   "execution_count": 39,
   "metadata": {},
   "outputs": [
    {
     "data": {
      "text/plain": [
       "<Axes: xlabel='stars', ylabel='Count'>"
      ]
     },
     "execution_count": 39,
     "metadata": {},
     "output_type": "execute_result"
    },
    {
     "data": {
      "image/png": "[encoded data removed]",
      "text/plain": [
       "<Figure size 640x480 with 1 Axes>"
      ]
     },
     "metadata": {},
     "output_type": "display_data"
    }
   ],
   "source": [
    "sns.histplot(df['stars'], kde=True, bins=42, color=\"blue\")"
   ]
  },
  {
   "cell_type": "code",
   "execution_count": 40,
   "metadata": {},
   "outputs": [
    {
     "data": {
      "text/plain": [
       "'\\n    In summary, significant number of products either not rated or rated very lowly,\\n    and another cluster of products rated highly.\\n    This pattern might suggest distinct groups of products in terms of customer satisfaction and understanding the characteristics of highly rated vs poorly rated or unrated products\\n    \\n'"
      ]
     },
     "execution_count": 40,
     "metadata": {},
     "output_type": "execute_result"
    }
   ],
   "source": [
    "###BUSSINESS QUESTION - How do customers rate products on Amazon UK, and are there any patterns or tendencies in the ratings?\n",
    "\n",
    "\n",
    "\"\"\"\n",
    "    In summary, the presence of two polarized cluster shows that opinions vary widely on Amazon Uk, with products meeting or missing expectations,\n",
    "    the cluster between 4 and 5 ratings, show us that clients when are happy tend to give higher ratings.\n",
    "    The high volume of 0-star ratings might not only reflect customer unstatisfaction but could also be due to products not receiving any ratings, \n",
    "    possibly because of low visibility or lack of purchases.\n",
    "\"\"\""
   ]
  },
  {
   "cell_type": "code",
   "execution_count": 41,
   "metadata": {},
   "outputs": [
    {
     "data": {
      "text/plain": [
       "42"
      ]
     },
     "execution_count": 41,
     "metadata": {},
     "output_type": "execute_result"
    }
   ],
   "source": [
    "df[\"stars\"].value_counts().count()"
   ]
  },
  {
   "cell_type": "code",
   "execution_count": null,
   "metadata": {},
   "outputs": [],
   "source": []
  }
 ],
 "metadata": {
  "kernelspec": {
   "display_name": "base",
   "language": "python",
   "name": "python3"
  },
  "language_info": {
   "codemirror_mode": {
    "name": "ipython",
    "version": 3
   },
   "file_extension": ".py",
   "mimetype": "text/x-python",
   "name": "python",
   "nbconvert_exporter": "python",
   "pygments_lexer": "ipython3",
   "version": "3.11.4"
  }
 },
 "nbformat": 4,
 "nbformat_minor": 2
}
